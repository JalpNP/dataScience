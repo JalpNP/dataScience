{
  "nbformat": 4,
  "nbformat_minor": 0,
  "metadata": {
    "colab": {
      "provenance": []
    },
    "kernelspec": {
      "name": "python3",
      "display_name": "Python 3"
    },
    "language_info": {
      "name": "python"
    }
  },
  "cells": [
    {
      "cell_type": "markdown",
      "source": [
        "1. Explain the significance of Python keywords and provide examples of five keywords\n",
        "\n",
        "Python keywords are reserved words that have special meanings and are used to define the syntax and structure of the language. These keywords cannot be used as identifiers (variable names, function names, etc.) because they serve specific purposes within the language."
      ],
      "metadata": {
        "id": "mBUiygqXgGQ8"
      }
    },
    {
      "cell_type": "code",
      "execution_count": 15,
      "metadata": {
        "colab": {
          "base_uri": "https://localhost:8080/"
        },
        "id": "9FPnLsCyf_Gs",
        "outputId": "9cd20304-ee94-4957-c7cd-3b71534f398c"
      },
      "outputs": [
        {
          "output_type": "stream",
          "name": "stdout",
          "text": [
            "Positive\n"
          ]
        }
      ],
      "source": [
        "#1 if:\n",
        "x = 10\n",
        "\n",
        "if x > 0:\n",
        "    print(\"Positive\")"
      ]
    },
    {
      "cell_type": "code",
      "source": [
        "#2 elif:\n",
        "x = 0\n",
        "\n",
        "if x > 0:\n",
        "    print(\"Positive\")\n",
        "elif x == 0:\n",
        "    print(\"Zero\")"
      ],
      "metadata": {
        "colab": {
          "base_uri": "https://localhost:8080/"
        },
        "id": "Q_dTLA50ho5X",
        "outputId": "113bf2cc-aab2-4205-9cc8-c0cfb5a9a866"
      },
      "execution_count": 18,
      "outputs": [
        {
          "output_type": "stream",
          "name": "stdout",
          "text": [
            "Zero\n"
          ]
        }
      ]
    },
    {
      "cell_type": "code",
      "source": [
        "#3 else:\n",
        "x = 10\n",
        "\n",
        "if x<0:\n",
        "  print(\"Negative\")\n",
        "\n",
        "else:\n",
        "  print(\"Positive\")"
      ],
      "metadata": {
        "colab": {
          "base_uri": "https://localhost:8080/"
        },
        "id": "YFX_rgNgi3UM",
        "outputId": "3aa55687-1995-49a0-a800-4b68ef0265b0"
      },
      "execution_count": 19,
      "outputs": [
        {
          "output_type": "stream",
          "name": "stdout",
          "text": [
            "Positive\n"
          ]
        }
      ]
    },
    {
      "cell_type": "code",
      "source": [
        "#4 for:\n",
        "for i in range(5):\n",
        "    print(i)"
      ],
      "metadata": {
        "colab": {
          "base_uri": "https://localhost:8080/"
        },
        "id": "Pg9bJl6whxPW",
        "outputId": "8b7543d1-3d90-4faa-aab6-5d980f2b25b0"
      },
      "execution_count": 20,
      "outputs": [
        {
          "output_type": "stream",
          "name": "stdout",
          "text": [
            "0\n",
            "1\n",
            "2\n",
            "3\n",
            "4\n"
          ]
        }
      ]
    },
    {
      "cell_type": "code",
      "source": [
        "#5 while:\n",
        "count = 0\n",
        "while count < 5:\n",
        "    print(count)\n",
        "    count += 1"
      ],
      "metadata": {
        "colab": {
          "base_uri": "https://localhost:8080/"
        },
        "id": "Yn5Q3qLbh5BH",
        "outputId": "5366d434-8514-42c5-f51c-7ed72dcc8baa"
      },
      "execution_count": 21,
      "outputs": [
        {
          "output_type": "stream",
          "name": "stdout",
          "text": [
            "0\n",
            "1\n",
            "2\n",
            "3\n",
            "4\n"
          ]
        }
      ]
    },
    {
      "cell_type": "markdown",
      "source": [
        "2. Describe the rules for defining identifiers in Python and provide an example.\n",
        "\n",
        "\n",
        "Valid Characters: Identifiers can contain letters (both uppercase and lowercase), digits, and the underscore character (_).\n",
        "\n",
        "Case Sensitivity: Python is case-sensitive, meaning uppercase and lowercase letters are considered different. For instance, \"example\" and \"Example\" are treated as distinct identifiers.\n",
        "\n",
        "Start with a Letter or Underscore: Identifiers must start with a letter (a-z, A-Z) or an underscore (_). They cannot begin with a digit.\n",
        "\n",
        "Reserved Words: Avoid using Python reserved words (keywords) as identifiers. Examples of reserved words include if, else, while, for, def, class, and others.\n",
        "\n",
        "Special Characters: Except for the underscore (_), special characters such as @, $, and % are not allowed in identifiers."
      ],
      "metadata": {
        "id": "_KxK1DpyKOBd"
      }
    },
    {
      "cell_type": "code",
      "source": [
        "#Valid Variables:\n",
        "x=20\n",
        "y=\"Hello\"\n",
        "\n",
        "#InValid Variables:\n",
        "1_x=20\n",
        "my-variable=\"World!\""
      ],
      "metadata": {
        "id": "jBQaH34XKRv-"
      },
      "execution_count": null,
      "outputs": []
    },
    {
      "cell_type": "markdown",
      "source": [
        "3. What are comments in Python, and why are they useful6 Provide an example:\n",
        "\n",
        "Comments in python is used to understand the code for the second person who is from non tech bio.\n",
        "In python comments are used by #."
      ],
      "metadata": {
        "id": "Wx67MC3XdK-u"
      }
    },
    {
      "cell_type": "code",
      "source": [
        "x = 3\n",
        "y = 5\n",
        "c = x+y #It will add x and y values  (Comments)\n",
        "print(c)"
      ],
      "metadata": {
        "colab": {
          "base_uri": "https://localhost:8080/"
        },
        "id": "q8hOEdOWdZmF",
        "outputId": "e9c0d38c-edd2-4ca7-a208-c3032d9f0b43"
      },
      "execution_count": 1,
      "outputs": [
        {
          "output_type": "stream",
          "name": "stdout",
          "text": [
            "8\n"
          ]
        }
      ]
    },
    {
      "cell_type": "markdown",
      "source": [
        "4. Why is proper indentation important in Python?\n",
        "\n",
        "In Python, proper indentation is crucial because it is used to define the structure and scope of code blocks. Unlike many other programming languages that use braces or keywords to denote the beginning and end of blocks, Python relies on indentation to indicate the grouping of statements."
      ],
      "metadata": {
        "id": "NFTyHVSPd19S"
      }
    },
    {
      "cell_type": "markdown",
      "source": [
        "5. What happens if indentation is incorrect in Python?\n",
        "\n",
        "\n",
        "In Python, indentation is not just a matter of style; it is a crucial part of the language syntax. Incorrect indentation can lead to various issues, and the most common consequence is an 'IndentationError'."
      ],
      "metadata": {
        "id": "ZSilInejeCzY"
      }
    },
    {
      "cell_type": "markdown",
      "source": [
        "6. Differentiate between expression and statement in Python with examples\n",
        "\n",
        "Expression:\n",
        "\n",
        "An expression is a combination of values, variables, operators, and function calls that results in a single value.\n",
        "Expressions are meant to produce a value.\n",
        "Examples of expressions include arithmetic expressions, function calls, and assignments.\n",
        "Expressions can be part of statements.\n",
        "\n",
        "\n",
        "Statement:\n",
        "\n",
        "A statement is a complete line of code that performs an action. It may consist of one or more expressions.\n",
        "Statements are used to control the flow of a program, define structures, or perform operations.\n",
        "Examples of statements include assignment statements, control flow statements (if, while, for), and function definitions."
      ],
      "metadata": {
        "id": "KU4s9WUceJ8Y"
      }
    },
    {
      "cell_type": "code",
      "source": [
        "# Arithmetic expression\n",
        "result = 3 + 5 * 2\n",
        "\n",
        "print(result)"
      ],
      "metadata": {
        "colab": {
          "base_uri": "https://localhost:8080/"
        },
        "id": "lwYYu1F0eZeO",
        "outputId": "ae454784-69d9-42ef-b4cb-ceb79a54bd6b"
      },
      "execution_count": 8,
      "outputs": [
        {
          "output_type": "stream",
          "name": "stdout",
          "text": [
            "13\n"
          ]
        }
      ]
    },
    {
      "cell_type": "code",
      "source": [
        "# Assignment statement\n",
        "x = 10\n",
        "\n",
        "if x > 5:\n",
        "    print(\"x is greater than 5\")\n",
        "else:\n",
        "    print(\"x is not greater than 5\")"
      ],
      "metadata": {
        "colab": {
          "base_uri": "https://localhost:8080/"
        },
        "id": "xRE5fpmJegoh",
        "outputId": "f9bc6f74-10ef-492a-d277-756865b8c0b2"
      },
      "execution_count": 5,
      "outputs": [
        {
          "output_type": "stream",
          "name": "stdout",
          "text": [
            "x is greater than 5\n"
          ]
        }
      ]
    }
  ]
}