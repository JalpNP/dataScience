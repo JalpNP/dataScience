{
  "nbformat": 4,
  "nbformat_minor": 0,
  "metadata": {
    "colab": {
      "provenance": []
    },
    "kernelspec": {
      "name": "python3",
      "display_name": "Python 3"
    },
    "language_info": {
      "name": "python"
    }
  },
  "cells": [
    {
      "cell_type": "code",
      "execution_count": 18,
      "metadata": {
        "colab": {
          "base_uri": "https://localhost:8080/"
        },
        "id": "wIec5kW-0hM9",
        "outputId": "5ad03c65-dae5-4b68-a326-29a1a8b227f2"
      },
      "outputs": [
        {
          "output_type": "stream",
          "name": "stdout",
          "text": [
            "Sum: 15\n",
            "Difference: 5\n",
            "Product: 50\n",
            "Quotient: 2.0\n"
          ]
        }
      ],
      "source": [
        "number1 = 10\n",
        "number2 = 5\n",
        "\n",
        "sum_result = number1 + number2\n",
        "difference_result = number1 - number2\n",
        "product_result = number1 * number2\n",
        "\n",
        "if number2 != 0:\n",
        "    quotient_result = number1 / number2\n",
        "    print(f\"Sum: {sum_result}\")\n",
        "    print(f\"Difference: {difference_result}\")\n",
        "    print(f\"Product: {product_result}\")\n",
        "    print(f\"Quotient: {quotient_result}\")\n",
        "else:\n",
        "    print(\"Cannot divide by zero.\")"
      ]
    },
    {
      "cell_type": "code",
      "source": [
        "x = 10\n",
        "print(\"Initial value of x:\", x)\n",
        "\n",
        "x += 5\n",
        "print(\"After addition assignment (x += 5):\", x)\n",
        "\n",
        "x -= 3\n",
        "print(\"After subtraction assignment (x -= 3):\", x)\n",
        "\n",
        "x *= 2\n",
        "print(\"After multiplication assignment (x *= 2):\", x)\n",
        "\n",
        "x /= 4\n",
        "print(\"After division assignment (x /= 4):\", x)\n",
        "\n",
        "x %= 3\n",
        "print(\"After modulo assignment (x %= 3):\", x)\n",
        "\n",
        "x **= 2\n",
        "print(\"After exponentiation assignment (x **= 2):\", x)\n",
        "\n",
        "x //= 5\n",
        "print(\"After floor division assignment (x //= 5):\", x)"
      ],
      "metadata": {
        "colab": {
          "base_uri": "https://localhost:8080/"
        },
        "id": "3lYrehCa1R6o",
        "outputId": "fa99d0c3-71b5-45cd-a624-7b298e12d391"
      },
      "execution_count": 17,
      "outputs": [
        {
          "output_type": "stream",
          "name": "stdout",
          "text": [
            "Initial value of x: 10\n",
            "After addition assignment (x += 5): 15\n",
            "After subtraction assignment (x -= 3): 12\n",
            "After multiplication assignment (x *= 2): 24\n",
            "After division assignment (x /= 4): 6.0\n",
            "After modulo assignment (x %= 3): 0.0\n",
            "After exponentiation assignment (x **= 2): 0.0\n",
            "After floor division assignment (x //= 5): 0.0\n"
          ]
        }
      ]
    },
    {
      "cell_type": "code",
      "source": [
        "number1 = 2\n",
        "number2 = 10\n",
        "\n",
        "if number1 == number2:\n",
        "    print(f\"{number1} is equal to {number2}\")\n",
        "elif number1 < number2:\n",
        "    print(f\"{number1} is less than {number2}\")\n",
        "else:\n",
        "    print(f\"{number1} is greater than {number2}\")"
      ],
      "metadata": {
        "colab": {
          "base_uri": "https://localhost:8080/"
        },
        "id": "qYkILQgd1iUa",
        "outputId": "2c3223ca-e392-4b2f-ea2f-a12cd1c2a4da"
      },
      "execution_count": 16,
      "outputs": [
        {
          "output_type": "stream",
          "name": "stdout",
          "text": [
            "2 is less than 10\n"
          ]
        }
      ]
    },
    {
      "cell_type": "code",
      "source": [
        "number1 = 10\n",
        "number2 = 20\n",
        "\n",
        "if number1 > 0 and number2 > 0:\n",
        "    print(\"Both numbers are positive.\")\n",
        "\n",
        "if number1 < 0 or number2 < 0:\n",
        "    print(\"At least one of the numbers is negative.\")\n",
        "\n",
        "if not (number1 == number2):\n",
        "    print(\"The numbers are not equal.\")"
      ],
      "metadata": {
        "colab": {
          "base_uri": "https://localhost:8080/"
        },
        "id": "me_LcslG1uN6",
        "outputId": "65c03a60-a41c-466c-f16f-d33997a72217"
      },
      "execution_count": 8,
      "outputs": [
        {
          "output_type": "stream",
          "name": "stdout",
          "text": [
            "Both numbers are positive.\n",
            "The numbers are not equal.\n"
          ]
        }
      ]
    },
    {
      "cell_type": "code",
      "source": [
        "a = [1, 2, 3]\n",
        "b = a\n",
        "c = [1, 2, 3]\n",
        "\n",
        "print(\"a is b:\", a is b)\n",
        "print(\"a is c:\", a is c)"
      ],
      "metadata": {
        "colab": {
          "base_uri": "https://localhost:8080/"
        },
        "id": "tHsvQT2K129w",
        "outputId": "1d7beece-bfb6-4453-e23f-0c0aa083a646"
      },
      "execution_count": 14,
      "outputs": [
        {
          "output_type": "stream",
          "name": "stdout",
          "text": [
            "a is b: True\n",
            "a is c: False\n"
          ]
        }
      ]
    },
    {
      "cell_type": "code",
      "source": [
        "number1 = 20\n",
        "number2 = 30\n",
        "\n",
        "bitwise_and_result = number1 & number2\n",
        "print(f\"Bitwise AND: {bitwise_and_result}\")\n",
        "\n",
        "bitwise_or_result = number1 | number2\n",
        "print(f\"Bitwise OR: {bitwise_or_result}\")\n",
        "\n",
        "bitwise_xor_result = number1 ^ number2\n",
        "print(f\"Bitwise XOR: {bitwise_xor_result}\")\n",
        "\n",
        "bitwise_not_result = ~number1\n",
        "print(f\"Bitwise NOT (number1): {bitwise_not_result}\")\n",
        "\n",
        "left_shift_result = number1 << 2\n",
        "print(f\"Left shift by 2 (number1): {left_shift_result}\")\n",
        "\n",
        "right_shift_result = number2 >> 1\n",
        "print(f\"Right shift by 1 (number2): {right_shift_result}\")"
      ],
      "metadata": {
        "colab": {
          "base_uri": "https://localhost:8080/"
        },
        "id": "A5y00Zbd2IYu",
        "outputId": "fe320e97-fdcd-415b-c290-f9309c22e348"
      },
      "execution_count": 15,
      "outputs": [
        {
          "output_type": "stream",
          "name": "stdout",
          "text": [
            "Bitwise AND: 20\n",
            "Bitwise OR: 30\n",
            "Bitwise XOR: 10\n",
            "Bitwise NOT (number1): -21\n",
            "Left shift by 2 (number1): 80\n",
            "Right shift by 1 (number2): 15\n"
          ]
        }
      ]
    },
    {
      "cell_type": "code",
      "source": [
        "number = 10\n",
        "\n",
        "negated_number = -number\n",
        "\n",
        "print(f\"Original number: {number}\")\n",
        "print(f\"Negated number: {negated_number}\")"
      ],
      "metadata": {
        "colab": {
          "base_uri": "https://localhost:8080/"
        },
        "id": "coMtKLPB2Tft",
        "outputId": "a75ce1aa-d68b-466c-a036-ad0d89f69495"
      },
      "execution_count": 12,
      "outputs": [
        {
          "output_type": "stream",
          "name": "stdout",
          "text": [
            "Original number: 10\n",
            "Negated number: -10\n"
          ]
        }
      ]
    },
    {
      "cell_type": "code",
      "source": [
        "number1 = 5\n",
        "number2 = 10\n",
        "\n",
        "max_number = number1 if number1 > number2 else number2\n",
        "\n",
        "print(f\"The maximum number is: {max_number}\")"
      ],
      "metadata": {
        "colab": {
          "base_uri": "https://localhost:8080/"
        },
        "id": "vNiOGc7r2oIe",
        "outputId": "8c581488-293d-48d0-913c-22dcf33a5629"
      },
      "execution_count": 13,
      "outputs": [
        {
          "output_type": "stream",
          "name": "stdout",
          "text": [
            "The maximum number is: 10\n"
          ]
        }
      ]
    }
  ]
}